{
 "cells": [
  {
   "cell_type": "code",
   "execution_count": 1,
   "id": "72646d3a",
   "metadata": {},
   "outputs": [],
   "source": [
    "import numpy as np"
   ]
  },
  {
   "cell_type": "code",
   "execution_count": 2,
   "id": "6f44ce36",
   "metadata": {},
   "outputs": [],
   "source": [
    "def getMean(arr):\n",
    "    return [np.mean(arr, axis=0).tolist(), np.mean(arr, axis=1).tolist(), np.mean(arr.flat)]\n",
    "\n",
    "def getVariance(arr):\n",
    "    return [np.var(arr, axis=0).tolist(), np.var(arr, axis=1).tolist(), np.var(arr.flat)]\n",
    "\n",
    "def getStdDev(arr):\n",
    "    return [np.std(arr, axis=0).tolist(), np.std(arr, axis=1).tolist(), np.std(arr.flat)]\n",
    "\n",
    "def getMin(arr):\n",
    "    return [np.amin(arr, axis=0).tolist(), np.amin(arr, axis=1).tolist(), np.amin(arr.flat)]\n",
    "\n",
    "def getMax(arr):\n",
    "    return [np.amax(arr, axis=0).tolist(), np.amax(arr, axis=1).tolist(), np.amax(arr.flat)]\n",
    "\n",
    "def getSum(arr):\n",
    "    return [np.sum(arr, axis=0).tolist(), np.sum(arr, axis=1).tolist(), np.sum(arr.flat)]\n",
    "\n",
    "def calculate(list):\n",
    "    if len(list) != 9 or not all(type(x) is int for x in list):\n",
    "        raise ValueError(\"List must contain nine numbers.\")\n",
    "    \n",
    "    arr = np.array(list).reshape(3, 3)\n",
    "\n",
    "    calculations = {\n",
    "        'mean': getMean(arr),\n",
    "        'variance': getVariance(arr),\n",
    "        'standard deviation': getStdDev(arr),\n",
    "        'max': getMax(arr),\n",
    "        'min': getMin(arr),\n",
    "        'sum': getSum(arr)\n",
    "    }\n",
    "\n",
    "    return calculations"
   ]
  },
  {
   "cell_type": "code",
   "execution_count": null,
   "id": "54a698b4",
   "metadata": {},
   "outputs": [],
   "source": []
  }
 ],
 "metadata": {
  "kernelspec": {
   "display_name": "Python 3",
   "language": "python",
   "name": "python3"
  },
  "language_info": {
   "codemirror_mode": {
    "name": "ipython",
    "version": 3
   },
   "file_extension": ".py",
   "mimetype": "text/x-python",
   "name": "python",
   "nbconvert_exporter": "python",
   "pygments_lexer": "ipython3",
   "version": "3.8.8"
  }
 },
 "nbformat": 4,
 "nbformat_minor": 5
}
