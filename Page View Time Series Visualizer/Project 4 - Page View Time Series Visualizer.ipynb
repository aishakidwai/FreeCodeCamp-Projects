{
 "cells": [
  {
   "cell_type": "code",
   "execution_count": 9,
   "id": "e9a6a257",
   "metadata": {},
   "outputs": [],
   "source": [
    "import pandas as pd\n",
    "import matplotlib.pyplot as plt\n",
    "import seaborn as sns"
   ]
  },
  {
   "cell_type": "code",
   "execution_count": 10,
   "id": "7347ec5e",
   "metadata": {},
   "outputs": [],
   "source": [
    "from pandas.plotting import register_matplotlib_converters\n",
    "register_matplotlib_converters()"
   ]
  },
  {
   "cell_type": "code",
   "execution_count": 11,
   "id": "13f5ed89",
   "metadata": {},
   "outputs": [],
   "source": [
    "plt.rc('font', size=14)\n",
    "plt.rc('figure', titlesize=20)"
   ]
  },
  {
   "cell_type": "code",
   "execution_count": 12,
   "id": "afce1131",
   "metadata": {},
   "outputs": [],
   "source": [
    "df = pd.read_csv('fcc-forum-pageviews.csv', header=0, index_col='date', parse_dates=True)"
   ]
  },
  {
   "cell_type": "code",
   "execution_count": 18,
   "id": "51d589c1",
   "metadata": {},
   "outputs": [],
   "source": [
    "df = df[(df['value'] >= df['value'].quantile(0.025)) & (df['value'] <= df['value'].quantile(0.975))]"
   ]
  },
  {
   "cell_type": "code",
   "execution_count": 26,
   "id": "058af066",
   "metadata": {},
   "outputs": [],
   "source": [
    "def draw_line_plot():\n",
    "    # Draw line plot\n",
    "    df_copy = df.copy()\n",
    "\n",
    "    fig, ax = plt.subplots()\n",
    "    df_copy.reset_index().plot(x='date', y='value', kind='line', title='Daily FCC Forum Page Views May 2016- Dec 2019', xlabel='Date', ylabel='Page Views', figsize=(25,8), fontsize=16, ax=ax)\n",
    "\n",
    "    # Save image and return fig (don't change this part)\n",
    "    fig.savefig('line_plot.png')\n",
    "    return fig"
   ]
  },
  {
   "cell_type": "code",
   "execution_count": 27,
   "id": "73e9d327",
   "metadata": {},
   "outputs": [],
   "source": [
    "def draw_bar_plot():\n",
    "    # Copy and modify data for monthly bar plot\n",
    "    df_bar = df.copy()\n",
    "    df_bar = df_bar.groupby([df_bar.index.year, df_bar.index.month]).mean().unstack()\n",
    "\n",
    "    #Draw bar plot\n",
    "    fig = df_bar.plot.bar(legend=True, figsize=(13,6), ylabel='Average Page Views', xlabel='Years').figure\n",
    "    plt.legend(['January', 'February', 'March', 'April', 'May', 'June', 'July', 'August', 'September', 'October', 'November', 'December'])\n",
    "\n",
    "    plt.xticks(fontsize=10)\n",
    "    plt.yticks(fontsize=20)\n",
    "    \n",
    "    # Save image and return fig (don't change this part)\n",
    "    fig.savefig('bar_plot.png')\n",
    "    return fig"
   ]
  },
  {
   "cell_type": "code",
   "execution_count": 29,
   "id": "f42d83b0",
   "metadata": {},
   "outputs": [],
   "source": [
    "def draw_box_plot():\n",
    "    # Prepare data for box plots (this part is done!)\n",
    "    df_box = df.copy()\n",
    "    df_box.reset_index(inplace=True)\n",
    "    df_box['year'] = [d.year for d in df_box.date]\n",
    "    df_box['month'] = [d.strftime('%b') for d in df_box.date]\n",
    "\n",
    "    # Draw box plots (using Seaborn)\n",
    "    fig, ax = plt.subplots(ncols=2, figsize=(25, 8))\n",
    "    sns.boxplot(x='year',y='value',data=df_box,ax=ax[0])\n",
    "    ax[0].set_title('Year-wise Box Plot (Trend)')\n",
    "    ax[0].set_xlabel('Year')\n",
    "    ax[0].set_ylabel('Page Views')\n",
    "    \n",
    "    month_order = ['Jan','Feb','Mar','Apr','May','June','July','Aug','Sep','Oct','Nov','Dec']\n",
    "    sns.boxplot(x='month',y='value',data=df_box,order=month_order,ax=ax[1])\n",
    "    ax[1].set_title('Month-wise Box Plot (Seasonality)')\n",
    "    ax[1].set_xlabel('Month')\n",
    "    ax[1].set_ylabel('Page Views')\n",
    "\n",
    "    # Save image and return fig (don't change this part)\n",
    "    fig.savefig('box_plot.png')\n",
    "    return fig"
   ]
  },
  {
   "cell_type": "markdown",
   "id": "4fb74655",
   "metadata": {},
   "source": [
    "### End of Assignment"
   ]
  }
 ],
 "metadata": {
  "kernelspec": {
   "display_name": "Python 3",
   "language": "python",
   "name": "python3"
  },
  "language_info": {
   "codemirror_mode": {
    "name": "ipython",
    "version": 3
   },
   "file_extension": ".py",
   "mimetype": "text/x-python",
   "name": "python",
   "nbconvert_exporter": "python",
   "pygments_lexer": "ipython3",
   "version": "3.8.8"
  }
 },
 "nbformat": 4,
 "nbformat_minor": 5
}
